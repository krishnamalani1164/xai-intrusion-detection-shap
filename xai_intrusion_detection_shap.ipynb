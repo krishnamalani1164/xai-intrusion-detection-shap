{
  "nbformat": 4,
  "nbformat_minor": 0,
  "metadata": {
    "colab": {
      "provenance": [],
      "authorship_tag": "ABX9TyPd7/jOTiAbbAlEErhe/N5p",
      "include_colab_link": true
    },
    "kernelspec": {
      "name": "python3",
      "display_name": "Python 3"
    },
    "language_info": {
      "name": "python"
    }
  },
  "cells": [
    {
      "cell_type": "markdown",
      "metadata": {
        "id": "view-in-github",
        "colab_type": "text"
      },
      "source": [
        "<a href=\"https://colab.research.google.com/github/krishnamalani1164/xai-intrusion-detection-shap/blob/main/xai_intrusion_detection_shap.ipynb\" target=\"_parent\"><img src=\"https://colab.research.google.com/assets/colab-badge.svg\" alt=\"Open In Colab\"/></a>"
      ]
    },
    {
      "cell_type": "markdown",
      "source": [
        "#Project Overview\n",
        "This project demonstrates the application of Explainable AI techniques to security applications,\n",
        "specifically focusing on Network Intrusion Detection Systems (IDS). The goal is to create\n",
        "machine learning models that can effectively detect network intrusions while providing\n",
        "transparent explanations for their decisions."
      ],
      "metadata": {
        "id": "f_KFw6jnM7RQ"
      }
    },
    {
      "cell_type": "markdown",
      "source": [
        "## Key Components\n",
        "1. Data Processing: Using the NSL-KDD dataset, a benchmark dataset for intrusion detection\n",
        "2. Model Training: Implementation of XGBoost classifier for attack detection\n",
        "3. Explainable AI: Application of SHAP and LIME techniques to explain model predictions\n",
        "4. Security Analysis: Evaluation of model performance and robustness against adversarial inputs"
      ],
      "metadata": {
        "id": "WFQD3VSbNpwK"
      }
    },
    {
      "cell_type": "markdown",
      "source": [
        "#Installation of Dependicies"
      ],
      "metadata": {
        "id": "UonEJTi3HWVe"
      }
    },
    {
      "cell_type": "code",
      "source": [
        "import numpy as np\n",
        "import pandas as pd\n",
        "import matplotlib.pyplot as plt\n",
        "from sklearn.preprocessing import LabelEncoder,OneHotEncoder\n",
        "from sklearn import preprocessing\n",
        "from sklearn.feature_selection import RFE\n",
        "from sklearn.tree import DecisionTreeClassifier\n",
        "from sklearn.model_selection import train_test_split\n",
        "from sklearn.model_selection import cross_val_score\n",
        "from sklearn import metrics\n",
        "import warnings\n",
        "import shap\n",
        "warnings.filterwarnings(\"ignore\")"
      ],
      "metadata": {
        "id": "ckt0BLSdaFAH"
      },
      "execution_count": 1,
      "outputs": []
    },
    {
      "cell_type": "markdown",
      "source": [
        "#Assigning column names"
      ],
      "metadata": {
        "id": "gxJCdIHwaM1E"
      }
    },
    {
      "cell_type": "code",
      "source": [
        "from google.colab import files\n",
        "uploaded = files.upload()"
      ],
      "metadata": {
        "colab": {
          "base_uri": "https://localhost:8080/",
          "height": 90
        },
        "id": "05o6PkigaV0b",
        "outputId": "545f19c0-1318-4c67-f849-a335271cad74"
      },
      "execution_count": 2,
      "outputs": [
        {
          "output_type": "display_data",
          "data": {
            "text/plain": [
              "<IPython.core.display.HTML object>"
            ],
            "text/html": [
              "\n",
              "     <input type=\"file\" id=\"files-9c97b895-274d-4f2f-9828-be30104b57b4\" name=\"files[]\" multiple disabled\n",
              "        style=\"border:none\" />\n",
              "     <output id=\"result-9c97b895-274d-4f2f-9828-be30104b57b4\">\n",
              "      Upload widget is only available when the cell has been executed in the\n",
              "      current browser session. Please rerun this cell to enable.\n",
              "      </output>\n",
              "      <script>// Copyright 2017 Google LLC\n",
              "//\n",
              "// Licensed under the Apache License, Version 2.0 (the \"License\");\n",
              "// you may not use this file except in compliance with the License.\n",
              "// You may obtain a copy of the License at\n",
              "//\n",
              "//      http://www.apache.org/licenses/LICENSE-2.0\n",
              "//\n",
              "// Unless required by applicable law or agreed to in writing, software\n",
              "// distributed under the License is distributed on an \"AS IS\" BASIS,\n",
              "// WITHOUT WARRANTIES OR CONDITIONS OF ANY KIND, either express or implied.\n",
              "// See the License for the specific language governing permissions and\n",
              "// limitations under the License.\n",
              "\n",
              "/**\n",
              " * @fileoverview Helpers for google.colab Python module.\n",
              " */\n",
              "(function(scope) {\n",
              "function span(text, styleAttributes = {}) {\n",
              "  const element = document.createElement('span');\n",
              "  element.textContent = text;\n",
              "  for (const key of Object.keys(styleAttributes)) {\n",
              "    element.style[key] = styleAttributes[key];\n",
              "  }\n",
              "  return element;\n",
              "}\n",
              "\n",
              "// Max number of bytes which will be uploaded at a time.\n",
              "const MAX_PAYLOAD_SIZE = 100 * 1024;\n",
              "\n",
              "function _uploadFiles(inputId, outputId) {\n",
              "  const steps = uploadFilesStep(inputId, outputId);\n",
              "  const outputElement = document.getElementById(outputId);\n",
              "  // Cache steps on the outputElement to make it available for the next call\n",
              "  // to uploadFilesContinue from Python.\n",
              "  outputElement.steps = steps;\n",
              "\n",
              "  return _uploadFilesContinue(outputId);\n",
              "}\n",
              "\n",
              "// This is roughly an async generator (not supported in the browser yet),\n",
              "// where there are multiple asynchronous steps and the Python side is going\n",
              "// to poll for completion of each step.\n",
              "// This uses a Promise to block the python side on completion of each step,\n",
              "// then passes the result of the previous step as the input to the next step.\n",
              "function _uploadFilesContinue(outputId) {\n",
              "  const outputElement = document.getElementById(outputId);\n",
              "  const steps = outputElement.steps;\n",
              "\n",
              "  const next = steps.next(outputElement.lastPromiseValue);\n",
              "  return Promise.resolve(next.value.promise).then((value) => {\n",
              "    // Cache the last promise value to make it available to the next\n",
              "    // step of the generator.\n",
              "    outputElement.lastPromiseValue = value;\n",
              "    return next.value.response;\n",
              "  });\n",
              "}\n",
              "\n",
              "/**\n",
              " * Generator function which is called between each async step of the upload\n",
              " * process.\n",
              " * @param {string} inputId Element ID of the input file picker element.\n",
              " * @param {string} outputId Element ID of the output display.\n",
              " * @return {!Iterable<!Object>} Iterable of next steps.\n",
              " */\n",
              "function* uploadFilesStep(inputId, outputId) {\n",
              "  const inputElement = document.getElementById(inputId);\n",
              "  inputElement.disabled = false;\n",
              "\n",
              "  const outputElement = document.getElementById(outputId);\n",
              "  outputElement.innerHTML = '';\n",
              "\n",
              "  const pickedPromise = new Promise((resolve) => {\n",
              "    inputElement.addEventListener('change', (e) => {\n",
              "      resolve(e.target.files);\n",
              "    });\n",
              "  });\n",
              "\n",
              "  const cancel = document.createElement('button');\n",
              "  inputElement.parentElement.appendChild(cancel);\n",
              "  cancel.textContent = 'Cancel upload';\n",
              "  const cancelPromise = new Promise((resolve) => {\n",
              "    cancel.onclick = () => {\n",
              "      resolve(null);\n",
              "    };\n",
              "  });\n",
              "\n",
              "  // Wait for the user to pick the files.\n",
              "  const files = yield {\n",
              "    promise: Promise.race([pickedPromise, cancelPromise]),\n",
              "    response: {\n",
              "      action: 'starting',\n",
              "    }\n",
              "  };\n",
              "\n",
              "  cancel.remove();\n",
              "\n",
              "  // Disable the input element since further picks are not allowed.\n",
              "  inputElement.disabled = true;\n",
              "\n",
              "  if (!files) {\n",
              "    return {\n",
              "      response: {\n",
              "        action: 'complete',\n",
              "      }\n",
              "    };\n",
              "  }\n",
              "\n",
              "  for (const file of files) {\n",
              "    const li = document.createElement('li');\n",
              "    li.append(span(file.name, {fontWeight: 'bold'}));\n",
              "    li.append(span(\n",
              "        `(${file.type || 'n/a'}) - ${file.size} bytes, ` +\n",
              "        `last modified: ${\n",
              "            file.lastModifiedDate ? file.lastModifiedDate.toLocaleDateString() :\n",
              "                                    'n/a'} - `));\n",
              "    const percent = span('0% done');\n",
              "    li.appendChild(percent);\n",
              "\n",
              "    outputElement.appendChild(li);\n",
              "\n",
              "    const fileDataPromise = new Promise((resolve) => {\n",
              "      const reader = new FileReader();\n",
              "      reader.onload = (e) => {\n",
              "        resolve(e.target.result);\n",
              "      };\n",
              "      reader.readAsArrayBuffer(file);\n",
              "    });\n",
              "    // Wait for the data to be ready.\n",
              "    let fileData = yield {\n",
              "      promise: fileDataPromise,\n",
              "      response: {\n",
              "        action: 'continue',\n",
              "      }\n",
              "    };\n",
              "\n",
              "    // Use a chunked sending to avoid message size limits. See b/62115660.\n",
              "    let position = 0;\n",
              "    do {\n",
              "      const length = Math.min(fileData.byteLength - position, MAX_PAYLOAD_SIZE);\n",
              "      const chunk = new Uint8Array(fileData, position, length);\n",
              "      position += length;\n",
              "\n",
              "      const base64 = btoa(String.fromCharCode.apply(null, chunk));\n",
              "      yield {\n",
              "        response: {\n",
              "          action: 'append',\n",
              "          file: file.name,\n",
              "          data: base64,\n",
              "        },\n",
              "      };\n",
              "\n",
              "      let percentDone = fileData.byteLength === 0 ?\n",
              "          100 :\n",
              "          Math.round((position / fileData.byteLength) * 100);\n",
              "      percent.textContent = `${percentDone}% done`;\n",
              "\n",
              "    } while (position < fileData.byteLength);\n",
              "  }\n",
              "\n",
              "  // All done.\n",
              "  yield {\n",
              "    response: {\n",
              "      action: 'complete',\n",
              "    }\n",
              "  };\n",
              "}\n",
              "\n",
              "scope.google = scope.google || {};\n",
              "scope.google.colab = scope.google.colab || {};\n",
              "scope.google.colab._files = {\n",
              "  _uploadFiles,\n",
              "  _uploadFilesContinue,\n",
              "};\n",
              "})(self);\n",
              "</script> "
            ]
          },
          "metadata": {}
        },
        {
          "output_type": "stream",
          "name": "stdout",
          "text": [
            "Saving NSL-KDD  Dataset.zip to NSL-KDD  Dataset.zip\n"
          ]
        }
      ]
    },
    {
      "cell_type": "markdown",
      "source": [
        "# Step 2: Unzip the file"
      ],
      "metadata": {
        "id": "wLaRh0fncFh4"
      }
    },
    {
      "cell_type": "code",
      "source": [
        "import zipfile\n",
        "import os\n",
        "\n",
        "zip_path = next(iter(uploaded))  # Get the uploaded zip filename\n",
        "with zipfile.ZipFile(zip_path, 'r') as zip_ref:\n",
        "    zip_ref.extractall()  # Extract into current working directory"
      ],
      "metadata": {
        "id": "tgmgHVdZcGMR"
      },
      "execution_count": 3,
      "outputs": []
    },
    {
      "cell_type": "code",
      "source": [
        "col_names = [\"duration\",\"protocol_type\",\"service\",\"flag\",\"src_bytes\",\n",
        "    \"dst_bytes\",\"land\",\"wrong_fragment\",\"urgent\",\"hot\",\"num_failed_logins\",\n",
        "    \"logged_in\",\"num_compromised\",\"root_shell\",\"su_attempted\",\"num_root\",\n",
        "    \"num_file_creations\",\"num_shells\",\"num_access_files\",\"num_outbound_cmds\",\n",
        "    \"is_host_login\",\"is_guest_login\",\"count\",\"srv_count\",\"serror_rate\",\n",
        "    \"srv_serror_rate\",\"rerror_rate\",\"srv_rerror_rate\",\"same_srv_rate\",\n",
        "    \"diff_srv_rate\",\"srv_diff_host_rate\",\"dst_host_count\",\"dst_host_srv_count\",\n",
        "    \"dst_host_same_srv_rate\",\"dst_host_diff_srv_rate\",\"dst_host_same_src_port_rate\",\n",
        "    \"dst_host_srv_diff_host_rate\",\"dst_host_serror_rate\",\"dst_host_srv_serror_rate\",\n",
        "    \"dst_host_rerror_rate\",\"dst_host_srv_rerror_rate\",\"label\"]"
      ],
      "metadata": {
        "id": "-hH_jcfTaRDv"
      },
      "execution_count": 4,
      "outputs": []
    },
    {
      "cell_type": "code",
      "source": [
        "# Assigning attribute name to dataset\n",
        "df_train = pd.read_csv(\"KDDTrain+.txt\", header=None, names=col_names)\n",
        "df_test = pd.read_csv(\"KDDTest+.txt\", header=None, names=col_names)\n",
        "\n",
        "# Step 5: Display a few rows to confirm\n",
        "print(\"Train Dataset:\")\n",
        "print(df_train.head())\n",
        "\n",
        "print(\"\\nTest Dataset:\")\n",
        "print(df_test.head())"
      ],
      "metadata": {
        "colab": {
          "base_uri": "https://localhost:8080/"
        },
        "id": "lFT7rRQubNDD",
        "outputId": "64149c80-4a22-49c7-9e42-76b6211275d9"
      },
      "execution_count": 9,
      "outputs": [
        {
          "output_type": "stream",
          "name": "stdout",
          "text": [
            "Train Dataset:\n",
            "  duration protocol_type service  flag  src_bytes  dst_bytes  land  \\\n",
            "0      tcp      ftp_data      SF   491          0          0     0   \n",
            "0      udp         other      SF   146          0          0     0   \n",
            "0      tcp       private      S0     0          0          0     0   \n",
            "0      tcp          http      SF   232       8153          0     0   \n",
            "0      tcp          http      SF   199        420          0     0   \n",
            "\n",
            "   wrong_fragment  urgent  hot  ...  dst_host_srv_count  \\\n",
            "0               0       0    0  ...                0.17   \n",
            "0               0       0    0  ...                0.00   \n",
            "0               0       0    0  ...                0.10   \n",
            "0               0       0    0  ...                1.00   \n",
            "0               0       0    0  ...                1.00   \n",
            "\n",
            "   dst_host_same_srv_rate  dst_host_diff_srv_rate  \\\n",
            "0                    0.03                    0.17   \n",
            "0                    0.60                    0.88   \n",
            "0                    0.05                    0.00   \n",
            "0                    0.00                    0.03   \n",
            "0                    0.00                    0.00   \n",
            "\n",
            "   dst_host_same_src_port_rate  dst_host_srv_diff_host_rate  \\\n",
            "0                         0.00                         0.00   \n",
            "0                         0.00                         0.00   \n",
            "0                         0.00                         1.00   \n",
            "0                         0.04                         0.03   \n",
            "0                         0.00                         0.00   \n",
            "\n",
            "   dst_host_serror_rate  dst_host_srv_serror_rate  dst_host_rerror_rate  \\\n",
            "0                  0.00                      0.05                  0.00   \n",
            "0                  0.00                      0.00                  0.00   \n",
            "0                  1.00                      0.00                  0.00   \n",
            "0                  0.01                      0.00                  0.01   \n",
            "0                  0.00                      0.00                  0.00   \n",
            "\n",
            "   dst_host_srv_rerror_rate  label  \n",
            "0                    normal     20  \n",
            "0                    normal     15  \n",
            "0                   neptune     19  \n",
            "0                    normal     21  \n",
            "0                    normal     21  \n",
            "\n",
            "[5 rows x 42 columns]\n",
            "\n",
            "Test Dataset:\n",
            "  duration protocol_type service   flag  src_bytes  dst_bytes  land  \\\n",
            "0      tcp       private     REJ      0          0          0     0   \n",
            "0      tcp       private     REJ      0          0          0     0   \n",
            "2      tcp      ftp_data      SF  12983          0          0     0   \n",
            "0     icmp         eco_i      SF     20          0          0     0   \n",
            "1      tcp        telnet    RSTO      0         15          0     0   \n",
            "\n",
            "   wrong_fragment  urgent  hot  ...  dst_host_srv_count  \\\n",
            "0               0       0    0  ...                0.04   \n",
            "0               0       0    0  ...                0.00   \n",
            "2               0       0    0  ...                0.61   \n",
            "0               0       0    0  ...                1.00   \n",
            "1               0       0    0  ...                0.31   \n",
            "\n",
            "   dst_host_same_srv_rate  dst_host_diff_srv_rate  \\\n",
            "0                    0.06                    0.00   \n",
            "0                    0.06                    0.00   \n",
            "2                    0.04                    0.61   \n",
            "0                    0.00                    1.00   \n",
            "1                    0.17                    0.03   \n",
            "\n",
            "   dst_host_same_src_port_rate  dst_host_srv_diff_host_rate  \\\n",
            "0                         0.00                          0.0   \n",
            "0                         0.00                          0.0   \n",
            "2                         0.02                          0.0   \n",
            "0                         0.28                          0.0   \n",
            "1                         0.02                          0.0   \n",
            "\n",
            "   dst_host_serror_rate  dst_host_srv_serror_rate  dst_host_rerror_rate  \\\n",
            "0                   0.0                      1.00                  1.00   \n",
            "0                   0.0                      1.00                  1.00   \n",
            "2                   0.0                      0.00                  0.00   \n",
            "0                   0.0                      0.00                  0.00   \n",
            "1                   0.0                      0.83                  0.71   \n",
            "\n",
            "   dst_host_srv_rerror_rate  label  \n",
            "0                   neptune     21  \n",
            "0                   neptune     21  \n",
            "2                    normal     21  \n",
            "0                     saint     15  \n",
            "1                     mscan     11  \n",
            "\n",
            "[5 rows x 42 columns]\n"
          ]
        }
      ]
    },
    {
      "cell_type": "markdown",
      "source": [
        "# 2. DATA EXPLORATION AND PREPROCESSING\n"
      ],
      "metadata": {
        "id": "qoqGTd9iPKFV"
      }
    },
    {
      "cell_type": "code",
      "source": [
        "print(\"\\n[2] DATA EXPLORATION AND PREPROCESSING\")"
      ],
      "metadata": {
        "colab": {
          "base_uri": "https://localhost:8080/"
        },
        "id": "4K8kiN7IPNZy",
        "outputId": "8e7335cf-2667-49e6-bc7b-02ee6a929e8e"
      },
      "execution_count": 10,
      "outputs": [
        {
          "output_type": "stream",
          "name": "stdout",
          "text": [
            "\n",
            "[2] DATA EXPLORATION AND PREPROCESSING\n"
          ]
        }
      ]
    },
    {
      "cell_type": "code",
      "source": [
        "print(\"\\n Sample data from training set:\")\n",
        "print(df_train.head())"
      ],
      "metadata": {
        "colab": {
          "base_uri": "https://localhost:8080/"
        },
        "id": "PGtE_69MQXjP",
        "outputId": "bca3c3a2-255c-468e-cdff-be35a1b98f0f"
      },
      "execution_count": 12,
      "outputs": [
        {
          "output_type": "stream",
          "name": "stdout",
          "text": [
            "\n",
            " Sample data from training set:\n",
            "  duration protocol_type service  flag  src_bytes  dst_bytes  land  \\\n",
            "0      tcp      ftp_data      SF   491          0          0     0   \n",
            "0      udp         other      SF   146          0          0     0   \n",
            "0      tcp       private      S0     0          0          0     0   \n",
            "0      tcp          http      SF   232       8153          0     0   \n",
            "0      tcp          http      SF   199        420          0     0   \n",
            "\n",
            "   wrong_fragment  urgent  hot  ...  dst_host_srv_count  \\\n",
            "0               0       0    0  ...                0.17   \n",
            "0               0       0    0  ...                0.00   \n",
            "0               0       0    0  ...                0.10   \n",
            "0               0       0    0  ...                1.00   \n",
            "0               0       0    0  ...                1.00   \n",
            "\n",
            "   dst_host_same_srv_rate  dst_host_diff_srv_rate  \\\n",
            "0                    0.03                    0.17   \n",
            "0                    0.60                    0.88   \n",
            "0                    0.05                    0.00   \n",
            "0                    0.00                    0.03   \n",
            "0                    0.00                    0.00   \n",
            "\n",
            "   dst_host_same_src_port_rate  dst_host_srv_diff_host_rate  \\\n",
            "0                         0.00                         0.00   \n",
            "0                         0.00                         0.00   \n",
            "0                         0.00                         1.00   \n",
            "0                         0.04                         0.03   \n",
            "0                         0.00                         0.00   \n",
            "\n",
            "   dst_host_serror_rate  dst_host_srv_serror_rate  dst_host_rerror_rate  \\\n",
            "0                  0.00                      0.05                  0.00   \n",
            "0                  0.00                      0.00                  0.00   \n",
            "0                  1.00                      0.00                  0.00   \n",
            "0                  0.01                      0.00                  0.01   \n",
            "0                  0.00                      0.00                  0.00   \n",
            "\n",
            "   dst_host_srv_rerror_rate  label  \n",
            "0                    normal     20  \n",
            "0                    normal     15  \n",
            "0                   neptune     19  \n",
            "0                    normal     21  \n",
            "0                    normal     21  \n",
            "\n",
            "[5 rows x 42 columns]\n"
          ]
        }
      ]
    },
    {
      "cell_type": "markdown",
      "source": [
        "#Basic information about the dataset"
      ],
      "metadata": {
        "id": "O4QOCQVkQv5_"
      }
    },
    {
      "cell_type": "code",
      "source": [
        "print(\"\\n sample data from missing values:\")\n",
        "print(df_train.info())"
      ],
      "metadata": {
        "colab": {
          "base_uri": "https://localhost:8080/"
        },
        "id": "UnhnBv8QQ1FG",
        "outputId": "d4793671-e8d9-42ea-bc68-c3d91fb257ed"
      },
      "execution_count": 13,
      "outputs": [
        {
          "output_type": "stream",
          "name": "stdout",
          "text": [
            "\n",
            " sample data from missing values:\n",
            "<class 'pandas.core.frame.DataFrame'>\n",
            "Index: 125973 entries, 0 to 0\n",
            "Data columns (total 42 columns):\n",
            " #   Column                       Non-Null Count   Dtype  \n",
            "---  ------                       --------------   -----  \n",
            " 0   duration                     125973 non-null  object \n",
            " 1   protocol_type                125973 non-null  object \n",
            " 2   service                      125973 non-null  object \n",
            " 3   flag                         125973 non-null  int64  \n",
            " 4   src_bytes                    125973 non-null  int64  \n",
            " 5   dst_bytes                    125973 non-null  int64  \n",
            " 6   land                         125973 non-null  int64  \n",
            " 7   wrong_fragment               125973 non-null  int64  \n",
            " 8   urgent                       125973 non-null  int64  \n",
            " 9   hot                          125973 non-null  int64  \n",
            " 10  num_failed_logins            125973 non-null  int64  \n",
            " 11  logged_in                    125973 non-null  int64  \n",
            " 12  num_compromised              125973 non-null  int64  \n",
            " 13  root_shell                   125973 non-null  int64  \n",
            " 14  su_attempted                 125973 non-null  int64  \n",
            " 15  num_root                     125973 non-null  int64  \n",
            " 16  num_file_creations           125973 non-null  int64  \n",
            " 17  num_shells                   125973 non-null  int64  \n",
            " 18  num_access_files             125973 non-null  int64  \n",
            " 19  num_outbound_cmds            125973 non-null  int64  \n",
            " 20  is_host_login                125973 non-null  int64  \n",
            " 21  is_guest_login               125973 non-null  int64  \n",
            " 22  count                        125973 non-null  int64  \n",
            " 23  srv_count                    125973 non-null  float64\n",
            " 24  serror_rate                  125973 non-null  float64\n",
            " 25  srv_serror_rate              125973 non-null  float64\n",
            " 26  rerror_rate                  125973 non-null  float64\n",
            " 27  srv_rerror_rate              125973 non-null  float64\n",
            " 28  same_srv_rate                125973 non-null  float64\n",
            " 29  diff_srv_rate                125973 non-null  float64\n",
            " 30  srv_diff_host_rate           125973 non-null  int64  \n",
            " 31  dst_host_count               125973 non-null  int64  \n",
            " 32  dst_host_srv_count           125973 non-null  float64\n",
            " 33  dst_host_same_srv_rate       125973 non-null  float64\n",
            " 34  dst_host_diff_srv_rate       125973 non-null  float64\n",
            " 35  dst_host_same_src_port_rate  125973 non-null  float64\n",
            " 36  dst_host_srv_diff_host_rate  125973 non-null  float64\n",
            " 37  dst_host_serror_rate         125973 non-null  float64\n",
            " 38  dst_host_srv_serror_rate     125973 non-null  float64\n",
            " 39  dst_host_rerror_rate         125973 non-null  float64\n",
            " 40  dst_host_srv_rerror_rate     125973 non-null  object \n",
            " 41  label                        125973 non-null  int64  \n",
            "dtypes: float64(15), int64(23), object(4)\n",
            "memory usage: 41.3+ MB\n",
            "None\n"
          ]
        }
      ]
    },
    {
      "cell_type": "markdown",
      "source": [
        "# Attack type distribution"
      ],
      "metadata": {
        "id": "7Kp8HwEjRUef"
      }
    },
    {
      "cell_type": "code",
      "source": [
        "print(\"\\n Attack distribution in training_data:\")\n",
        "attack_counts = df_train['label'].value_counts()\n",
        "print(attack_counts)"
      ],
      "metadata": {
        "colab": {
          "base_uri": "https://localhost:8080/"
        },
        "id": "Ba-9ZTCWRaMA",
        "outputId": "bf1ea072-7fe2-424a-a528-0d6b9f7433aa"
      },
      "execution_count": 14,
      "outputs": [
        {
          "output_type": "stream",
          "name": "stdout",
          "text": [
            "\n",
            " Attack distribution in training_data:\n",
            "label\n",
            "21    62557\n",
            "18    20667\n",
            "20    19339\n",
            "19    10284\n",
            "15     3990\n",
            "17     3074\n",
            "16     2393\n",
            "12      729\n",
            "14      674\n",
            "11      641\n",
            "13      451\n",
            "10      253\n",
            "9       194\n",
            "7       118\n",
            "8       106\n",
            "6        96\n",
            "5        81\n",
            "4        79\n",
            "0        66\n",
            "3        65\n",
            "1        62\n",
            "2        54\n",
            "Name: count, dtype: int64\n"
          ]
        }
      ]
    },
    {
      "cell_type": "code",
      "source": [
        "#Map detailed attack labels to attack categories\n",
        "def categorize_attack(label):\n",
        "  if label == 'normal':\n",
        "    return 'normal'\n",
        "  elif label in ['neptune', 'back', 'land', 'pod', 'smurf', 'teardrop', 'apache2', 'udpstorm', 'processtable', 'worm']:\n",
        "      return 'DoS'\n",
        "  elif label in ['satan', 'ipsweep', 'nmap', 'portsweep', 'mscan', 'saint']:\n",
        "      return 'Probe'\n",
        "  elif label in ['guess_passwd', 'ftp_write', 'imap', 'phf', 'multihop', 'warezmaster', 'warezclient', 'spy', 'xlock', 'xsnoop', 'snmpguess', 'snmpgetattack', 'httptunnel', 'sendmail', 'named']:\n",
        "      return 'R2L'\n",
        "  elif label in ['buffer_overflow', 'loadmodule', 'rootkit', 'perl', 'sqlattack', 'xterm', 'ps']:\n",
        "      return 'U2R'\n",
        "  else:\n",
        "      return 'Unknown'"
      ],
      "metadata": {
        "id": "GJdnXDeZTQKu"
      },
      "execution_count": 15,
      "outputs": []
    },
    {
      "cell_type": "code",
      "source": [
        "#Apply categorization\n",
        "df_train['attack_cat'] = df_train['label'].apply(categorize_attack)\n",
        "df_test['attack_cat'] = df_test['label'].apply(categorize_attack)"
      ],
      "metadata": {
        "id": "x4xEY5YmUsg5"
      },
      "execution_count": 16,
      "outputs": []
    },
    {
      "cell_type": "code",
      "source": [
        "# Display attack categories\n",
        "print(\"\\n  Attack categories in training data:\")\n",
        "print(df_train['attack_cat'].value_counts())"
      ],
      "metadata": {
        "colab": {
          "base_uri": "https://localhost:8080/"
        },
        "id": "uIQBaeldVIm5",
        "outputId": "8966a7cd-5b0a-44f1-e0ea-ca39fec39858"
      },
      "execution_count": 17,
      "outputs": [
        {
          "output_type": "stream",
          "name": "stdout",
          "text": [
            "\n",
            "  Attack categories in training data:\n",
            "attack_cat\n",
            "Unknown    125973\n",
            "Name: count, dtype: int64\n"
          ]
        }
      ]
    },
    {
      "cell_type": "code",
      "source": [
        "#Visualization of attack categories"
      ],
      "metadata": {
        "id": "3bh3GBCzWHO8"
      },
      "execution_count": null,
      "outputs": []
    }
  ]
}