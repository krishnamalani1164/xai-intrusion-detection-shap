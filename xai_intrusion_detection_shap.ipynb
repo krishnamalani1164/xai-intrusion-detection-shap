{
  "nbformat": 4,
  "nbformat_minor": 0,
  "metadata": {
    "colab": {
      "provenance": [],
      "authorship_tag": "ABX9TyOm2L5/tpxVrdpfzuTnlQnP",
      "include_colab_link": true
    },
    "kernelspec": {
      "name": "python3",
      "display_name": "Python 3"
    },
    "language_info": {
      "name": "python"
    }
  },
  "cells": [
    {
      "cell_type": "markdown",
      "metadata": {
        "id": "view-in-github",
        "colab_type": "text"
      },
      "source": [
        "<a href=\"https://colab.research.google.com/github/krishnamalani1164/xai-intrusion-detection-shap/blob/main/xai_intrusion_detection_shap.ipynb\" target=\"_parent\"><img src=\"https://colab.research.google.com/assets/colab-badge.svg\" alt=\"Open In Colab\"/></a>"
      ]
    },
    {
      "cell_type": "markdown",
      "source": [
        "#Project Overview\n",
        "This project demonstrates the application of Explainable AI techniques to security applications,\n",
        "specifically focusing on Network Intrusion Detection Systems (IDS). The goal is to create\n",
        "machine learning models that can effectively detect network intrusions while providing\n",
        "transparent explanations for their decisions."
      ],
      "metadata": {
        "id": "f_KFw6jnM7RQ"
      }
    },
    {
      "cell_type": "markdown",
      "source": [
        "## Key Components\n",
        "1. Data Processing: Using the NSL-KDD dataset, a benchmark dataset for intrusion detection\n",
        "2. Model Training: Implementation of XGBoost classifier for attack detection\n",
        "3. Explainable AI: Application of SHAP and LIME techniques to explain model predictions\n",
        "4. Security Analysis: Evaluation of model performance and robustness against adversarial inputs"
      ],
      "metadata": {
        "id": "WFQD3VSbNpwK"
      }
    },
    {
      "cell_type": "markdown",
      "source": [
        "#Installation of Dependicies"
      ],
      "metadata": {
        "id": "UonEJTi3HWVe"
      }
    },
    {
      "cell_type": "code",
      "source": [
        "import numpy as np\n",
        "import pandas as pd\n",
        "import matplotlib.pyplot as plt\n",
        "from sklearn.preprocessing import LabelEncoder,OneHotEncoder\n",
        "from sklearn import preprocessing\n",
        "from sklearn.feature_selection import RFE\n",
        "from sklearn.tree import DecisionTreeClassifier\n",
        "from sklearn.model_selection import train_test_split\n",
        "from sklearn.model_selection import cross_val_score\n",
        "from sklearn import metrics\n",
        "import warnings\n",
        "import shap\n",
        "warnings.filterwarnings(\"ignore\")"
      ],
      "metadata": {
        "id": "ckt0BLSdaFAH"
      },
      "execution_count": 8,
      "outputs": []
    },
    {
      "cell_type": "markdown",
      "source": [
        "#Assigning column names"
      ],
      "metadata": {
        "id": "gxJCdIHwaM1E"
      }
    },
    {
      "cell_type": "code",
      "source": [
        "from google.colab import files\n",
        "uploaded = files.upload()"
      ],
      "metadata": {
        "colab": {
          "base_uri": "https://localhost:8080/",
          "height": 90
        },
        "id": "05o6PkigaV0b",
        "outputId": "ad28770a-5669-46d7-92b8-006cc4a10701"
      },
      "execution_count": 13,
      "outputs": [
        {
          "output_type": "display_data",
          "data": {
            "text/plain": [
              "<IPython.core.display.HTML object>"
            ],
            "text/html": [
              "\n",
              "     <input type=\"file\" id=\"files-294eda23-4e7b-4d43-a847-771fc53b717b\" name=\"files[]\" multiple disabled\n",
              "        style=\"border:none\" />\n",
              "     <output id=\"result-294eda23-4e7b-4d43-a847-771fc53b717b\">\n",
              "      Upload widget is only available when the cell has been executed in the\n",
              "      current browser session. Please rerun this cell to enable.\n",
              "      </output>\n",
              "      <script>// Copyright 2017 Google LLC\n",
              "//\n",
              "// Licensed under the Apache License, Version 2.0 (the \"License\");\n",
              "// you may not use this file except in compliance with the License.\n",
              "// You may obtain a copy of the License at\n",
              "//\n",
              "//      http://www.apache.org/licenses/LICENSE-2.0\n",
              "//\n",
              "// Unless required by applicable law or agreed to in writing, software\n",
              "// distributed under the License is distributed on an \"AS IS\" BASIS,\n",
              "// WITHOUT WARRANTIES OR CONDITIONS OF ANY KIND, either express or implied.\n",
              "// See the License for the specific language governing permissions and\n",
              "// limitations under the License.\n",
              "\n",
              "/**\n",
              " * @fileoverview Helpers for google.colab Python module.\n",
              " */\n",
              "(function(scope) {\n",
              "function span(text, styleAttributes = {}) {\n",
              "  const element = document.createElement('span');\n",
              "  element.textContent = text;\n",
              "  for (const key of Object.keys(styleAttributes)) {\n",
              "    element.style[key] = styleAttributes[key];\n",
              "  }\n",
              "  return element;\n",
              "}\n",
              "\n",
              "// Max number of bytes which will be uploaded at a time.\n",
              "const MAX_PAYLOAD_SIZE = 100 * 1024;\n",
              "\n",
              "function _uploadFiles(inputId, outputId) {\n",
              "  const steps = uploadFilesStep(inputId, outputId);\n",
              "  const outputElement = document.getElementById(outputId);\n",
              "  // Cache steps on the outputElement to make it available for the next call\n",
              "  // to uploadFilesContinue from Python.\n",
              "  outputElement.steps = steps;\n",
              "\n",
              "  return _uploadFilesContinue(outputId);\n",
              "}\n",
              "\n",
              "// This is roughly an async generator (not supported in the browser yet),\n",
              "// where there are multiple asynchronous steps and the Python side is going\n",
              "// to poll for completion of each step.\n",
              "// This uses a Promise to block the python side on completion of each step,\n",
              "// then passes the result of the previous step as the input to the next step.\n",
              "function _uploadFilesContinue(outputId) {\n",
              "  const outputElement = document.getElementById(outputId);\n",
              "  const steps = outputElement.steps;\n",
              "\n",
              "  const next = steps.next(outputElement.lastPromiseValue);\n",
              "  return Promise.resolve(next.value.promise).then((value) => {\n",
              "    // Cache the last promise value to make it available to the next\n",
              "    // step of the generator.\n",
              "    outputElement.lastPromiseValue = value;\n",
              "    return next.value.response;\n",
              "  });\n",
              "}\n",
              "\n",
              "/**\n",
              " * Generator function which is called between each async step of the upload\n",
              " * process.\n",
              " * @param {string} inputId Element ID of the input file picker element.\n",
              " * @param {string} outputId Element ID of the output display.\n",
              " * @return {!Iterable<!Object>} Iterable of next steps.\n",
              " */\n",
              "function* uploadFilesStep(inputId, outputId) {\n",
              "  const inputElement = document.getElementById(inputId);\n",
              "  inputElement.disabled = false;\n",
              "\n",
              "  const outputElement = document.getElementById(outputId);\n",
              "  outputElement.innerHTML = '';\n",
              "\n",
              "  const pickedPromise = new Promise((resolve) => {\n",
              "    inputElement.addEventListener('change', (e) => {\n",
              "      resolve(e.target.files);\n",
              "    });\n",
              "  });\n",
              "\n",
              "  const cancel = document.createElement('button');\n",
              "  inputElement.parentElement.appendChild(cancel);\n",
              "  cancel.textContent = 'Cancel upload';\n",
              "  const cancelPromise = new Promise((resolve) => {\n",
              "    cancel.onclick = () => {\n",
              "      resolve(null);\n",
              "    };\n",
              "  });\n",
              "\n",
              "  // Wait for the user to pick the files.\n",
              "  const files = yield {\n",
              "    promise: Promise.race([pickedPromise, cancelPromise]),\n",
              "    response: {\n",
              "      action: 'starting',\n",
              "    }\n",
              "  };\n",
              "\n",
              "  cancel.remove();\n",
              "\n",
              "  // Disable the input element since further picks are not allowed.\n",
              "  inputElement.disabled = true;\n",
              "\n",
              "  if (!files) {\n",
              "    return {\n",
              "      response: {\n",
              "        action: 'complete',\n",
              "      }\n",
              "    };\n",
              "  }\n",
              "\n",
              "  for (const file of files) {\n",
              "    const li = document.createElement('li');\n",
              "    li.append(span(file.name, {fontWeight: 'bold'}));\n",
              "    li.append(span(\n",
              "        `(${file.type || 'n/a'}) - ${file.size} bytes, ` +\n",
              "        `last modified: ${\n",
              "            file.lastModifiedDate ? file.lastModifiedDate.toLocaleDateString() :\n",
              "                                    'n/a'} - `));\n",
              "    const percent = span('0% done');\n",
              "    li.appendChild(percent);\n",
              "\n",
              "    outputElement.appendChild(li);\n",
              "\n",
              "    const fileDataPromise = new Promise((resolve) => {\n",
              "      const reader = new FileReader();\n",
              "      reader.onload = (e) => {\n",
              "        resolve(e.target.result);\n",
              "      };\n",
              "      reader.readAsArrayBuffer(file);\n",
              "    });\n",
              "    // Wait for the data to be ready.\n",
              "    let fileData = yield {\n",
              "      promise: fileDataPromise,\n",
              "      response: {\n",
              "        action: 'continue',\n",
              "      }\n",
              "    };\n",
              "\n",
              "    // Use a chunked sending to avoid message size limits. See b/62115660.\n",
              "    let position = 0;\n",
              "    do {\n",
              "      const length = Math.min(fileData.byteLength - position, MAX_PAYLOAD_SIZE);\n",
              "      const chunk = new Uint8Array(fileData, position, length);\n",
              "      position += length;\n",
              "\n",
              "      const base64 = btoa(String.fromCharCode.apply(null, chunk));\n",
              "      yield {\n",
              "        response: {\n",
              "          action: 'append',\n",
              "          file: file.name,\n",
              "          data: base64,\n",
              "        },\n",
              "      };\n",
              "\n",
              "      let percentDone = fileData.byteLength === 0 ?\n",
              "          100 :\n",
              "          Math.round((position / fileData.byteLength) * 100);\n",
              "      percent.textContent = `${percentDone}% done`;\n",
              "\n",
              "    } while (position < fileData.byteLength);\n",
              "  }\n",
              "\n",
              "  // All done.\n",
              "  yield {\n",
              "    response: {\n",
              "      action: 'complete',\n",
              "    }\n",
              "  };\n",
              "}\n",
              "\n",
              "scope.google = scope.google || {};\n",
              "scope.google.colab = scope.google.colab || {};\n",
              "scope.google.colab._files = {\n",
              "  _uploadFiles,\n",
              "  _uploadFilesContinue,\n",
              "};\n",
              "})(self);\n",
              "</script> "
            ]
          },
          "metadata": {}
        },
        {
          "output_type": "stream",
          "name": "stdout",
          "text": [
            "Saving NSL-KDD  Dataset.zip to NSL-KDD  Dataset (1).zip\n"
          ]
        }
      ]
    },
    {
      "cell_type": "markdown",
      "source": [
        "# Step 2: Unzip the file"
      ],
      "metadata": {
        "id": "wLaRh0fncFh4"
      }
    },
    {
      "cell_type": "code",
      "source": [
        "import zipfile\n",
        "import os\n",
        "\n",
        "zip_path = next(iter(uploaded))  # Get the uploaded zip filename\n",
        "with zipfile.ZipFile(zip_path, 'r') as zip_ref:\n",
        "    zip_ref.extractall()  # Extract into current working directory"
      ],
      "metadata": {
        "id": "tgmgHVdZcGMR"
      },
      "execution_count": 14,
      "outputs": []
    },
    {
      "cell_type": "code",
      "source": [
        "col_names = [\"duration\",\"protocol_type\",\"service\",\"flag\",\"src_bytes\",\n",
        "    \"dst_bytes\",\"land\",\"wrong_fragment\",\"urgent\",\"hot\",\"num_failed_logins\",\n",
        "    \"logged_in\",\"num_compromised\",\"root_shell\",\"su_attempted\",\"num_root\",\n",
        "    \"num_file_creations\",\"num_shells\",\"num_access_files\",\"num_outbound_cmds\",\n",
        "    \"is_host_login\",\"is_guest_login\",\"count\",\"srv_count\",\"serror_rate\",\n",
        "    \"srv_serror_rate\",\"rerror_rate\",\"srv_rerror_rate\",\"same_srv_rate\",\n",
        "    \"diff_srv_rate\",\"srv_diff_host_rate\",\"dst_host_count\",\"dst_host_srv_count\",\n",
        "    \"dst_host_same_srv_rate\",\"dst_host_diff_srv_rate\",\"dst_host_same_src_port_rate\",\n",
        "    \"dst_host_srv_diff_host_rate\",\"dst_host_serror_rate\",\"dst_host_srv_serror_rate\",\n",
        "    \"dst_host_rerror_rate\",\"dst_host_srv_rerror_rate\",\"label\"]"
      ],
      "metadata": {
        "id": "-hH_jcfTaRDv"
      },
      "execution_count": 15,
      "outputs": []
    },
    {
      "cell_type": "code",
      "source": [
        "# Assigning attribute name to dataset\n",
        "dataset_train = pd.read_csv(\"KDDTrain+.txt\", header=None, names=col_names)\n",
        "dataset_test = pd.read_csv(\"KDDTest+.txt\", header=None, names=col_names)\n",
        "\n",
        "# Step 5: Display a few rows to confirm\n",
        "print(\"Train Dataset:\")\n",
        "print(dataset_train.head())\n",
        "\n",
        "print(\"\\nTest Dataset:\")\n",
        "print(dataset_test.head())"
      ],
      "metadata": {
        "colab": {
          "base_uri": "https://localhost:8080/"
        },
        "id": "lFT7rRQubNDD",
        "outputId": "0f47f15a-4e1c-45c1-e110-67c4ab605491"
      },
      "execution_count": 19,
      "outputs": [
        {
          "output_type": "stream",
          "name": "stdout",
          "text": [
            "Train Dataset:\n",
            "  duration protocol_type service  flag  src_bytes  dst_bytes  land  \\\n",
            "0      tcp      ftp_data      SF   491          0          0     0   \n",
            "0      udp         other      SF   146          0          0     0   \n",
            "0      tcp       private      S0     0          0          0     0   \n",
            "0      tcp          http      SF   232       8153          0     0   \n",
            "0      tcp          http      SF   199        420          0     0   \n",
            "\n",
            "   wrong_fragment  urgent  hot  ...  dst_host_srv_count  \\\n",
            "0               0       0    0  ...                0.17   \n",
            "0               0       0    0  ...                0.00   \n",
            "0               0       0    0  ...                0.10   \n",
            "0               0       0    0  ...                1.00   \n",
            "0               0       0    0  ...                1.00   \n",
            "\n",
            "   dst_host_same_srv_rate  dst_host_diff_srv_rate  \\\n",
            "0                    0.03                    0.17   \n",
            "0                    0.60                    0.88   \n",
            "0                    0.05                    0.00   \n",
            "0                    0.00                    0.03   \n",
            "0                    0.00                    0.00   \n",
            "\n",
            "   dst_host_same_src_port_rate  dst_host_srv_diff_host_rate  \\\n",
            "0                         0.00                         0.00   \n",
            "0                         0.00                         0.00   \n",
            "0                         0.00                         1.00   \n",
            "0                         0.04                         0.03   \n",
            "0                         0.00                         0.00   \n",
            "\n",
            "   dst_host_serror_rate  dst_host_srv_serror_rate  dst_host_rerror_rate  \\\n",
            "0                  0.00                      0.05                  0.00   \n",
            "0                  0.00                      0.00                  0.00   \n",
            "0                  1.00                      0.00                  0.00   \n",
            "0                  0.01                      0.00                  0.01   \n",
            "0                  0.00                      0.00                  0.00   \n",
            "\n",
            "   dst_host_srv_rerror_rate  label  \n",
            "0                    normal     20  \n",
            "0                    normal     15  \n",
            "0                   neptune     19  \n",
            "0                    normal     21  \n",
            "0                    normal     21  \n",
            "\n",
            "[5 rows x 42 columns]\n",
            "\n",
            "Test Dataset:\n",
            "  duration protocol_type service   flag  src_bytes  dst_bytes  land  \\\n",
            "0      tcp       private     REJ      0          0          0     0   \n",
            "0      tcp       private     REJ      0          0          0     0   \n",
            "2      tcp      ftp_data      SF  12983          0          0     0   \n",
            "0     icmp         eco_i      SF     20          0          0     0   \n",
            "1      tcp        telnet    RSTO      0         15          0     0   \n",
            "\n",
            "   wrong_fragment  urgent  hot  ...  dst_host_srv_count  \\\n",
            "0               0       0    0  ...                0.04   \n",
            "0               0       0    0  ...                0.00   \n",
            "2               0       0    0  ...                0.61   \n",
            "0               0       0    0  ...                1.00   \n",
            "1               0       0    0  ...                0.31   \n",
            "\n",
            "   dst_host_same_srv_rate  dst_host_diff_srv_rate  \\\n",
            "0                    0.06                    0.00   \n",
            "0                    0.06                    0.00   \n",
            "2                    0.04                    0.61   \n",
            "0                    0.00                    1.00   \n",
            "1                    0.17                    0.03   \n",
            "\n",
            "   dst_host_same_src_port_rate  dst_host_srv_diff_host_rate  \\\n",
            "0                         0.00                          0.0   \n",
            "0                         0.00                          0.0   \n",
            "2                         0.02                          0.0   \n",
            "0                         0.28                          0.0   \n",
            "1                         0.02                          0.0   \n",
            "\n",
            "   dst_host_serror_rate  dst_host_srv_serror_rate  dst_host_rerror_rate  \\\n",
            "0                   0.0                      1.00                  1.00   \n",
            "0                   0.0                      1.00                  1.00   \n",
            "2                   0.0                      0.00                  0.00   \n",
            "0                   0.0                      0.00                  0.00   \n",
            "1                   0.0                      0.83                  0.71   \n",
            "\n",
            "   dst_host_srv_rerror_rate  label  \n",
            "0                   neptune     21  \n",
            "0                   neptune     21  \n",
            "2                    normal     21  \n",
            "0                     saint     15  \n",
            "1                     mscan     11  \n",
            "\n",
            "[5 rows x 42 columns]\n"
          ]
        }
      ]
    }
  ]
}